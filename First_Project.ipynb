{
  "nbformat": 4,
  "nbformat_minor": 0,
  "metadata": {
    "colab": {
      "name": "First_Project.ipynb",
      "provenance": [],
      "collapsed_sections": [
        "-RmNSBF9F8zI",
        "Ped4rmzDBLTY",
        "kV2tOfklJQII",
        "sy2Hmb4B7Y9P",
        "1j7P__Dk7mi3"
      ]
    },
    "kernelspec": {
      "name": "python3",
      "display_name": "Python 3"
    },
    "language_info": {
      "name": "python"
    }
  },
  "cells": [
    {
      "cell_type": "markdown",
      "source": [
        ""
      ],
      "metadata": {
        "id": "mt6R-Y1J8LX5"
      }
    },
    {
      "cell_type": "markdown",
      "metadata": {
        "id": "k3DW4PEAA_zc"
      },
      "source": [
        "# Indonesian Movies\n"
      ]
    },
    {
      "cell_type": "code",
      "source": [
        "from google.colab import drive\n",
        "drive.mount('/content/drive')"
      ],
      "metadata": {
        "colab": {
          "base_uri": "https://localhost:8080/"
        },
        "id": "x8TyqWs0fOEE",
        "outputId": "b875fd94-8082-403b-b64f-d58dad44607b"
      },
      "execution_count": 1,
      "outputs": [
        {
          "output_type": "stream",
          "name": "stdout",
          "text": [
            "Mounted at /content/drive\n"
          ]
        }
      ]
    },
    {
      "cell_type": "markdown",
      "metadata": {
        "id": "-RmNSBF9F8zI"
      },
      "source": [
        "### Import Library dan Dataset"
      ]
    },
    {
      "cell_type": "code",
      "metadata": {
        "id": "U0mynXc7nGvU"
      },
      "source": [
        "# Import library yang digunakan\n",
        "import pandas as pd\n",
        "import matplotlib.pyplot as plt\n",
        "import seaborn as sns\n",
        "\n",
        "# Import dataset (csv)\n",
        "movies = pd.read_csv('/content/drive/MyDrive/Colab Notebooks/indonesian_movies.csv')"
      ],
      "execution_count": 24,
      "outputs": []
    },
    {
      "cell_type": "markdown",
      "metadata": {
        "id": "gSJNpNBeGYzw"
      },
      "source": [
        "### Explore the Data"
      ]
    },
    {
      "cell_type": "markdown",
      "source": [
        "#### Melihat struktur dataframe"
      ],
      "metadata": {
        "id": "KRFFowgh_uXY"
      }
    },
    {
      "cell_type": "code",
      "source": [
        "# Menampilkan jumlah baris dan kolom pada dataset === .shape\n",
        "movies.shape"
      ],
      "metadata": {
        "colab": {
          "base_uri": "https://localhost:8080/"
        },
        "id": "_j6GmCDq_0aZ",
        "outputId": "449456f3-9f60-441d-a8f0-9df54e8be9a6"
      },
      "execution_count": 3,
      "outputs": [
        {
          "output_type": "execute_result",
          "data": {
            "text/plain": [
              "(1272, 11)"
            ]
          },
          "metadata": {},
          "execution_count": 3
        }
      ]
    },
    {
      "cell_type": "code",
      "source": [
        "# Menampilkan kolom apa saja yang ada pada dataset === .columns\n",
        "movies.columns"
      ],
      "metadata": {
        "colab": {
          "base_uri": "https://localhost:8080/"
        },
        "id": "UC3i8qeyAPoI",
        "outputId": "ee8ca6c8-5722-456d-a5db-c9e7b13340e3"
      },
      "execution_count": 4,
      "outputs": [
        {
          "output_type": "execute_result",
          "data": {
            "text/plain": [
              "Index(['title', 'year', 'description', 'genre', 'rating', 'users_rating',\n",
              "       'votes', 'languages', 'directors', 'actors', 'runtime'],\n",
              "      dtype='object')"
            ]
          },
          "metadata": {},
          "execution_count": 4
        }
      ]
    },
    {
      "cell_type": "code",
      "source": [
        "# Menampilkan informasi data seperti tipe data, jumlah kolom, jumlah baris pada setiap kolom dan memory usage === .info()\n",
        "movies.info()"
      ],
      "metadata": {
        "colab": {
          "base_uri": "https://localhost:8080/"
        },
        "id": "X4YUtv3aBFHX",
        "outputId": "ec083b39-30d4-4ed9-fbd7-9de8be59df19"
      },
      "execution_count": 7,
      "outputs": [
        {
          "output_type": "stream",
          "name": "stdout",
          "text": [
            "<class 'pandas.core.frame.DataFrame'>\n",
            "RangeIndex: 1272 entries, 0 to 1271\n",
            "Data columns (total 11 columns):\n",
            " #   Column        Non-Null Count  Dtype  \n",
            "---  ------        --------------  -----  \n",
            " 0   title         1272 non-null   object \n",
            " 1   year          1272 non-null   int64  \n",
            " 2   description   840 non-null    object \n",
            " 3   genre         1236 non-null   object \n",
            " 4   rating        376 non-null    object \n",
            " 5   users_rating  1272 non-null   float64\n",
            " 6   votes         1272 non-null   object \n",
            " 7   languages     1272 non-null   object \n",
            " 8   directors     1265 non-null   object \n",
            " 9   actors        1272 non-null   object \n",
            " 10  runtime       869 non-null    object \n",
            "dtypes: float64(1), int64(1), object(9)\n",
            "memory usage: 109.4+ KB\n"
          ]
        }
      ]
    },
    {
      "cell_type": "code",
      "source": [
        "# Mengecek tipe data dari sebuah kolom === type()\n",
        "type(movies['title'])"
      ],
      "metadata": {
        "colab": {
          "base_uri": "https://localhost:8080/"
        },
        "id": "VrTgi3Y3E4qV",
        "outputId": "59db0f39-171a-4c40-9b42-2e0e8006c71e"
      },
      "execution_count": 8,
      "outputs": [
        {
          "output_type": "execute_result",
          "data": {
            "text/plain": [
              "pandas.core.series.Series"
            ]
          },
          "metadata": {},
          "execution_count": 8
        }
      ]
    },
    {
      "cell_type": "markdown",
      "source": [
        "#### Melihat preview data"
      ],
      "metadata": {
        "id": "Xiy2JgTrAg8v"
      }
    },
    {
      "cell_type": "code",
      "source": [
        "# Menampilkan 5 baris pertama === .head()\n",
        "movies.head()"
      ],
      "metadata": {
        "colab": {
          "base_uri": "https://localhost:8080/",
          "height": 250
        },
        "id": "PRNLN1-9AlsB",
        "outputId": "6d597513-bf3e-4cdc-c1b4-ac23d36041af"
      },
      "execution_count": 9,
      "outputs": [
        {
          "output_type": "execute_result",
          "data": {
            "text/plain": [
              "                      title  year  \\\n",
              "0       #FriendButMarried 2  2020   \n",
              "1                  4 Mantan  2020   \n",
              "2  Aku Tahu Kapan Kamu Mati  2020   \n",
              "3               Anak Garuda  2020   \n",
              "4                 Dignitate  2020   \n",
              "\n",
              "                                         description      genre rating  \\\n",
              "0  Ayudia (Mawar De Jongh) is not satisfied enoug...  Biography    13+   \n",
              "1  Sara, Airin, Rachel, and Amara were accidental...   Thriller    17+   \n",
              "2  After apparent death, Siena is able to see sig...     Horror    13+   \n",
              "3  Good Morning Indonesia, a school for poor orph...  Adventure    13+   \n",
              "4  Alfi (Al Ghazali) meets Alana (Caitlin Halderm...      Drama    17+   \n",
              "\n",
              "   users_rating votes   languages          directors  \\\n",
              "0           6.5   120  Indonesian      Rako Prijanto   \n",
              "1           6.4     8  Indonesian      Hanny Saputra   \n",
              "2           5.4    17  Indonesian  Hadrah Daeng Ratu   \n",
              "3           9.1    27  Indonesian       Faozan Rizal   \n",
              "4           7.6    33  Indonesian       Fajar Nugros   \n",
              "\n",
              "                                              actors  runtime  \n",
              "0  ['Adipati Dolken', 'Mawar Eva de Jongh', 'Vonn...  100 min  \n",
              "1  ['Ranty Maria', 'Jeff Smith', 'Melanie Berentz...   80 min  \n",
              "2  ['Natasha Wilona', 'Ria Ricis', 'Al Ghazali', ...   92 min  \n",
              "3  ['Tissa Biani Azzahra', 'Violla Georgie', 'Aji...  129 min  \n",
              "4  ['Al Ghazali', 'Caitlin Halderman', 'Giorgino ...  109 min  "
            ],
            "text/html": [
              "\n",
              "  <div id=\"df-c925dbed-2528-4b74-a70c-efdd8c6e16ac\">\n",
              "    <div class=\"colab-df-container\">\n",
              "      <div>\n",
              "<style scoped>\n",
              "    .dataframe tbody tr th:only-of-type {\n",
              "        vertical-align: middle;\n",
              "    }\n",
              "\n",
              "    .dataframe tbody tr th {\n",
              "        vertical-align: top;\n",
              "    }\n",
              "\n",
              "    .dataframe thead th {\n",
              "        text-align: right;\n",
              "    }\n",
              "</style>\n",
              "<table border=\"1\" class=\"dataframe\">\n",
              "  <thead>\n",
              "    <tr style=\"text-align: right;\">\n",
              "      <th></th>\n",
              "      <th>title</th>\n",
              "      <th>year</th>\n",
              "      <th>description</th>\n",
              "      <th>genre</th>\n",
              "      <th>rating</th>\n",
              "      <th>users_rating</th>\n",
              "      <th>votes</th>\n",
              "      <th>languages</th>\n",
              "      <th>directors</th>\n",
              "      <th>actors</th>\n",
              "      <th>runtime</th>\n",
              "    </tr>\n",
              "  </thead>\n",
              "  <tbody>\n",
              "    <tr>\n",
              "      <th>0</th>\n",
              "      <td>#FriendButMarried 2</td>\n",
              "      <td>2020</td>\n",
              "      <td>Ayudia (Mawar De Jongh) is not satisfied enoug...</td>\n",
              "      <td>Biography</td>\n",
              "      <td>13+</td>\n",
              "      <td>6.5</td>\n",
              "      <td>120</td>\n",
              "      <td>Indonesian</td>\n",
              "      <td>Rako Prijanto</td>\n",
              "      <td>['Adipati Dolken', 'Mawar Eva de Jongh', 'Vonn...</td>\n",
              "      <td>100 min</td>\n",
              "    </tr>\n",
              "    <tr>\n",
              "      <th>1</th>\n",
              "      <td>4 Mantan</td>\n",
              "      <td>2020</td>\n",
              "      <td>Sara, Airin, Rachel, and Amara were accidental...</td>\n",
              "      <td>Thriller</td>\n",
              "      <td>17+</td>\n",
              "      <td>6.4</td>\n",
              "      <td>8</td>\n",
              "      <td>Indonesian</td>\n",
              "      <td>Hanny Saputra</td>\n",
              "      <td>['Ranty Maria', 'Jeff Smith', 'Melanie Berentz...</td>\n",
              "      <td>80 min</td>\n",
              "    </tr>\n",
              "    <tr>\n",
              "      <th>2</th>\n",
              "      <td>Aku Tahu Kapan Kamu Mati</td>\n",
              "      <td>2020</td>\n",
              "      <td>After apparent death, Siena is able to see sig...</td>\n",
              "      <td>Horror</td>\n",
              "      <td>13+</td>\n",
              "      <td>5.4</td>\n",
              "      <td>17</td>\n",
              "      <td>Indonesian</td>\n",
              "      <td>Hadrah Daeng Ratu</td>\n",
              "      <td>['Natasha Wilona', 'Ria Ricis', 'Al Ghazali', ...</td>\n",
              "      <td>92 min</td>\n",
              "    </tr>\n",
              "    <tr>\n",
              "      <th>3</th>\n",
              "      <td>Anak Garuda</td>\n",
              "      <td>2020</td>\n",
              "      <td>Good Morning Indonesia, a school for poor orph...</td>\n",
              "      <td>Adventure</td>\n",
              "      <td>13+</td>\n",
              "      <td>9.1</td>\n",
              "      <td>27</td>\n",
              "      <td>Indonesian</td>\n",
              "      <td>Faozan Rizal</td>\n",
              "      <td>['Tissa Biani Azzahra', 'Violla Georgie', 'Aji...</td>\n",
              "      <td>129 min</td>\n",
              "    </tr>\n",
              "    <tr>\n",
              "      <th>4</th>\n",
              "      <td>Dignitate</td>\n",
              "      <td>2020</td>\n",
              "      <td>Alfi (Al Ghazali) meets Alana (Caitlin Halderm...</td>\n",
              "      <td>Drama</td>\n",
              "      <td>17+</td>\n",
              "      <td>7.6</td>\n",
              "      <td>33</td>\n",
              "      <td>Indonesian</td>\n",
              "      <td>Fajar Nugros</td>\n",
              "      <td>['Al Ghazali', 'Caitlin Halderman', 'Giorgino ...</td>\n",
              "      <td>109 min</td>\n",
              "    </tr>\n",
              "  </tbody>\n",
              "</table>\n",
              "</div>\n",
              "      <button class=\"colab-df-convert\" onclick=\"convertToInteractive('df-c925dbed-2528-4b74-a70c-efdd8c6e16ac')\"\n",
              "              title=\"Convert this dataframe to an interactive table.\"\n",
              "              style=\"display:none;\">\n",
              "        \n",
              "  <svg xmlns=\"http://www.w3.org/2000/svg\" height=\"24px\"viewBox=\"0 0 24 24\"\n",
              "       width=\"24px\">\n",
              "    <path d=\"M0 0h24v24H0V0z\" fill=\"none\"/>\n",
              "    <path d=\"M18.56 5.44l.94 2.06.94-2.06 2.06-.94-2.06-.94-.94-2.06-.94 2.06-2.06.94zm-11 1L8.5 8.5l.94-2.06 2.06-.94-2.06-.94L8.5 2.5l-.94 2.06-2.06.94zm10 10l.94 2.06.94-2.06 2.06-.94-2.06-.94-.94-2.06-.94 2.06-2.06.94z\"/><path d=\"M17.41 7.96l-1.37-1.37c-.4-.4-.92-.59-1.43-.59-.52 0-1.04.2-1.43.59L10.3 9.45l-7.72 7.72c-.78.78-.78 2.05 0 2.83L4 21.41c.39.39.9.59 1.41.59.51 0 1.02-.2 1.41-.59l7.78-7.78 2.81-2.81c.8-.78.8-2.07 0-2.86zM5.41 20L4 18.59l7.72-7.72 1.47 1.35L5.41 20z\"/>\n",
              "  </svg>\n",
              "      </button>\n",
              "      \n",
              "  <style>\n",
              "    .colab-df-container {\n",
              "      display:flex;\n",
              "      flex-wrap:wrap;\n",
              "      gap: 12px;\n",
              "    }\n",
              "\n",
              "    .colab-df-convert {\n",
              "      background-color: #E8F0FE;\n",
              "      border: none;\n",
              "      border-radius: 50%;\n",
              "      cursor: pointer;\n",
              "      display: none;\n",
              "      fill: #1967D2;\n",
              "      height: 32px;\n",
              "      padding: 0 0 0 0;\n",
              "      width: 32px;\n",
              "    }\n",
              "\n",
              "    .colab-df-convert:hover {\n",
              "      background-color: #E2EBFA;\n",
              "      box-shadow: 0px 1px 2px rgba(60, 64, 67, 0.3), 0px 1px 3px 1px rgba(60, 64, 67, 0.15);\n",
              "      fill: #174EA6;\n",
              "    }\n",
              "\n",
              "    [theme=dark] .colab-df-convert {\n",
              "      background-color: #3B4455;\n",
              "      fill: #D2E3FC;\n",
              "    }\n",
              "\n",
              "    [theme=dark] .colab-df-convert:hover {\n",
              "      background-color: #434B5C;\n",
              "      box-shadow: 0px 1px 3px 1px rgba(0, 0, 0, 0.15);\n",
              "      filter: drop-shadow(0px 1px 2px rgba(0, 0, 0, 0.3));\n",
              "      fill: #FFFFFF;\n",
              "    }\n",
              "  </style>\n",
              "\n",
              "      <script>\n",
              "        const buttonEl =\n",
              "          document.querySelector('#df-c925dbed-2528-4b74-a70c-efdd8c6e16ac button.colab-df-convert');\n",
              "        buttonEl.style.display =\n",
              "          google.colab.kernel.accessAllowed ? 'block' : 'none';\n",
              "\n",
              "        async function convertToInteractive(key) {\n",
              "          const element = document.querySelector('#df-c925dbed-2528-4b74-a70c-efdd8c6e16ac');\n",
              "          const dataTable =\n",
              "            await google.colab.kernel.invokeFunction('convertToInteractive',\n",
              "                                                     [key], {});\n",
              "          if (!dataTable) return;\n",
              "\n",
              "          const docLinkHtml = 'Like what you see? Visit the ' +\n",
              "            '<a target=\"_blank\" href=https://colab.research.google.com/notebooks/data_table.ipynb>data table notebook</a>'\n",
              "            + ' to learn more about interactive tables.';\n",
              "          element.innerHTML = '';\n",
              "          dataTable['output_type'] = 'display_data';\n",
              "          await google.colab.output.renderOutput(dataTable, element);\n",
              "          const docLink = document.createElement('div');\n",
              "          docLink.innerHTML = docLinkHtml;\n",
              "          element.appendChild(docLink);\n",
              "        }\n",
              "      </script>\n",
              "    </div>\n",
              "  </div>\n",
              "  "
            ]
          },
          "metadata": {},
          "execution_count": 9
        }
      ]
    },
    {
      "cell_type": "code",
      "source": [
        "# Menampilkan 5 baris terakhir === .tail()\n",
        "movies.tail()"
      ],
      "metadata": {
        "colab": {
          "base_uri": "https://localhost:8080/",
          "height": 206
        },
        "id": "sX7282YRAsRp",
        "outputId": "cf0507fe-88cb-4a62-cbed-3b6df2677369"
      },
      "execution_count": 10,
      "outputs": [
        {
          "output_type": "execute_result",
          "data": {
            "text/plain": [
              "                      title  year  \\\n",
              "1267  The Tiger from Tjampa  1953   \n",
              "1268    Enam Djam di Djogja  1951   \n",
              "1269          Darah dan Doa  1950   \n",
              "1270      Resia Boroboedoer  1928   \n",
              "1271     Loetoeng Kasaroeng  1926   \n",
              "\n",
              "                                            description      genre rating  \\\n",
              "1267  Set in the 1930s, and narrated like a ballad f...      Drama    NaN   \n",
              "1268  Depicting the celebrated recapture of the town...      Drama    NaN   \n",
              "1269  It tells the story of an Indonesian revolution...      Drama    NaN   \n",
              "1270                                                NaN  Adventure    NaN   \n",
              "1271                                                NaN    Fantasy    NaN   \n",
              "\n",
              "      users_rating votes   languages       directors  \\\n",
              "1267           6.4    30  Indonesian  D. Djajakusuma   \n",
              "1268           6.3     9  Indonesian    Usmar Ismail   \n",
              "1269           6.6    27  Indonesian    Usmar Ismail   \n",
              "1270           7.0     8  Indonesian             NaN   \n",
              "1271           7.2    11  Indonesian   L. Heuveldorp   \n",
              "\n",
              "                                                 actors  runtime  \n",
              "1267  ['Wahid Chan', 'Bambang Hermanto', 'R.D. Ismai...   97 min  \n",
              "1268  ['R.D. Ismail', 'Del Juzar', 'Aedy Moward', 'A...  116 min  \n",
              "1269  ['Ella Bergen', 'Faridah', 'R.D. Ismail', 'Del...  150 min  \n",
              "1270  ['Olive Young', nan, nan, nan, nan, nan, nan, ...      NaN  \n",
              "1271  ['Martoana', 'Oemar', nan, nan, nan, nan, nan,...   60 min  "
            ],
            "text/html": [
              "\n",
              "  <div id=\"df-5a4e9614-cc51-4612-87d6-e945490a70c4\">\n",
              "    <div class=\"colab-df-container\">\n",
              "      <div>\n",
              "<style scoped>\n",
              "    .dataframe tbody tr th:only-of-type {\n",
              "        vertical-align: middle;\n",
              "    }\n",
              "\n",
              "    .dataframe tbody tr th {\n",
              "        vertical-align: top;\n",
              "    }\n",
              "\n",
              "    .dataframe thead th {\n",
              "        text-align: right;\n",
              "    }\n",
              "</style>\n",
              "<table border=\"1\" class=\"dataframe\">\n",
              "  <thead>\n",
              "    <tr style=\"text-align: right;\">\n",
              "      <th></th>\n",
              "      <th>title</th>\n",
              "      <th>year</th>\n",
              "      <th>description</th>\n",
              "      <th>genre</th>\n",
              "      <th>rating</th>\n",
              "      <th>users_rating</th>\n",
              "      <th>votes</th>\n",
              "      <th>languages</th>\n",
              "      <th>directors</th>\n",
              "      <th>actors</th>\n",
              "      <th>runtime</th>\n",
              "    </tr>\n",
              "  </thead>\n",
              "  <tbody>\n",
              "    <tr>\n",
              "      <th>1267</th>\n",
              "      <td>The Tiger from Tjampa</td>\n",
              "      <td>1953</td>\n",
              "      <td>Set in the 1930s, and narrated like a ballad f...</td>\n",
              "      <td>Drama</td>\n",
              "      <td>NaN</td>\n",
              "      <td>6.4</td>\n",
              "      <td>30</td>\n",
              "      <td>Indonesian</td>\n",
              "      <td>D. Djajakusuma</td>\n",
              "      <td>['Wahid Chan', 'Bambang Hermanto', 'R.D. Ismai...</td>\n",
              "      <td>97 min</td>\n",
              "    </tr>\n",
              "    <tr>\n",
              "      <th>1268</th>\n",
              "      <td>Enam Djam di Djogja</td>\n",
              "      <td>1951</td>\n",
              "      <td>Depicting the celebrated recapture of the town...</td>\n",
              "      <td>Drama</td>\n",
              "      <td>NaN</td>\n",
              "      <td>6.3</td>\n",
              "      <td>9</td>\n",
              "      <td>Indonesian</td>\n",
              "      <td>Usmar Ismail</td>\n",
              "      <td>['R.D. Ismail', 'Del Juzar', 'Aedy Moward', 'A...</td>\n",
              "      <td>116 min</td>\n",
              "    </tr>\n",
              "    <tr>\n",
              "      <th>1269</th>\n",
              "      <td>Darah dan Doa</td>\n",
              "      <td>1950</td>\n",
              "      <td>It tells the story of an Indonesian revolution...</td>\n",
              "      <td>Drama</td>\n",
              "      <td>NaN</td>\n",
              "      <td>6.6</td>\n",
              "      <td>27</td>\n",
              "      <td>Indonesian</td>\n",
              "      <td>Usmar Ismail</td>\n",
              "      <td>['Ella Bergen', 'Faridah', 'R.D. Ismail', 'Del...</td>\n",
              "      <td>150 min</td>\n",
              "    </tr>\n",
              "    <tr>\n",
              "      <th>1270</th>\n",
              "      <td>Resia Boroboedoer</td>\n",
              "      <td>1928</td>\n",
              "      <td>NaN</td>\n",
              "      <td>Adventure</td>\n",
              "      <td>NaN</td>\n",
              "      <td>7.0</td>\n",
              "      <td>8</td>\n",
              "      <td>Indonesian</td>\n",
              "      <td>NaN</td>\n",
              "      <td>['Olive Young', nan, nan, nan, nan, nan, nan, ...</td>\n",
              "      <td>NaN</td>\n",
              "    </tr>\n",
              "    <tr>\n",
              "      <th>1271</th>\n",
              "      <td>Loetoeng Kasaroeng</td>\n",
              "      <td>1926</td>\n",
              "      <td>NaN</td>\n",
              "      <td>Fantasy</td>\n",
              "      <td>NaN</td>\n",
              "      <td>7.2</td>\n",
              "      <td>11</td>\n",
              "      <td>Indonesian</td>\n",
              "      <td>L. Heuveldorp</td>\n",
              "      <td>['Martoana', 'Oemar', nan, nan, nan, nan, nan,...</td>\n",
              "      <td>60 min</td>\n",
              "    </tr>\n",
              "  </tbody>\n",
              "</table>\n",
              "</div>\n",
              "      <button class=\"colab-df-convert\" onclick=\"convertToInteractive('df-5a4e9614-cc51-4612-87d6-e945490a70c4')\"\n",
              "              title=\"Convert this dataframe to an interactive table.\"\n",
              "              style=\"display:none;\">\n",
              "        \n",
              "  <svg xmlns=\"http://www.w3.org/2000/svg\" height=\"24px\"viewBox=\"0 0 24 24\"\n",
              "       width=\"24px\">\n",
              "    <path d=\"M0 0h24v24H0V0z\" fill=\"none\"/>\n",
              "    <path d=\"M18.56 5.44l.94 2.06.94-2.06 2.06-.94-2.06-.94-.94-2.06-.94 2.06-2.06.94zm-11 1L8.5 8.5l.94-2.06 2.06-.94-2.06-.94L8.5 2.5l-.94 2.06-2.06.94zm10 10l.94 2.06.94-2.06 2.06-.94-2.06-.94-.94-2.06-.94 2.06-2.06.94z\"/><path d=\"M17.41 7.96l-1.37-1.37c-.4-.4-.92-.59-1.43-.59-.52 0-1.04.2-1.43.59L10.3 9.45l-7.72 7.72c-.78.78-.78 2.05 0 2.83L4 21.41c.39.39.9.59 1.41.59.51 0 1.02-.2 1.41-.59l7.78-7.78 2.81-2.81c.8-.78.8-2.07 0-2.86zM5.41 20L4 18.59l7.72-7.72 1.47 1.35L5.41 20z\"/>\n",
              "  </svg>\n",
              "      </button>\n",
              "      \n",
              "  <style>\n",
              "    .colab-df-container {\n",
              "      display:flex;\n",
              "      flex-wrap:wrap;\n",
              "      gap: 12px;\n",
              "    }\n",
              "\n",
              "    .colab-df-convert {\n",
              "      background-color: #E8F0FE;\n",
              "      border: none;\n",
              "      border-radius: 50%;\n",
              "      cursor: pointer;\n",
              "      display: none;\n",
              "      fill: #1967D2;\n",
              "      height: 32px;\n",
              "      padding: 0 0 0 0;\n",
              "      width: 32px;\n",
              "    }\n",
              "\n",
              "    .colab-df-convert:hover {\n",
              "      background-color: #E2EBFA;\n",
              "      box-shadow: 0px 1px 2px rgba(60, 64, 67, 0.3), 0px 1px 3px 1px rgba(60, 64, 67, 0.15);\n",
              "      fill: #174EA6;\n",
              "    }\n",
              "\n",
              "    [theme=dark] .colab-df-convert {\n",
              "      background-color: #3B4455;\n",
              "      fill: #D2E3FC;\n",
              "    }\n",
              "\n",
              "    [theme=dark] .colab-df-convert:hover {\n",
              "      background-color: #434B5C;\n",
              "      box-shadow: 0px 1px 3px 1px rgba(0, 0, 0, 0.15);\n",
              "      filter: drop-shadow(0px 1px 2px rgba(0, 0, 0, 0.3));\n",
              "      fill: #FFFFFF;\n",
              "    }\n",
              "  </style>\n",
              "\n",
              "      <script>\n",
              "        const buttonEl =\n",
              "          document.querySelector('#df-5a4e9614-cc51-4612-87d6-e945490a70c4 button.colab-df-convert');\n",
              "        buttonEl.style.display =\n",
              "          google.colab.kernel.accessAllowed ? 'block' : 'none';\n",
              "\n",
              "        async function convertToInteractive(key) {\n",
              "          const element = document.querySelector('#df-5a4e9614-cc51-4612-87d6-e945490a70c4');\n",
              "          const dataTable =\n",
              "            await google.colab.kernel.invokeFunction('convertToInteractive',\n",
              "                                                     [key], {});\n",
              "          if (!dataTable) return;\n",
              "\n",
              "          const docLinkHtml = 'Like what you see? Visit the ' +\n",
              "            '<a target=\"_blank\" href=https://colab.research.google.com/notebooks/data_table.ipynb>data table notebook</a>'\n",
              "            + ' to learn more about interactive tables.';\n",
              "          element.innerHTML = '';\n",
              "          dataTable['output_type'] = 'display_data';\n",
              "          await google.colab.output.renderOutput(dataTable, element);\n",
              "          const docLink = document.createElement('div');\n",
              "          docLink.innerHTML = docLinkHtml;\n",
              "          element.appendChild(docLink);\n",
              "        }\n",
              "      </script>\n",
              "    </div>\n",
              "  </div>\n",
              "  "
            ]
          },
          "metadata": {},
          "execution_count": 10
        }
      ]
    },
    {
      "cell_type": "markdown",
      "source": [
        "#### Statistik Deskriptif"
      ],
      "metadata": {
        "id": "Ped4rmzDBLTY"
      }
    },
    {
      "cell_type": "markdown",
      "source": [
        "`.describe()` menampilkan nilai statistik deskriptif pada sebuah dataset. Secara default, `.describe()` hanya menghitung untuk kolom yang bertipe data integer. Maka dari itu, gunakan parameter:\n",
        "*   `include = object` untuk menghitung kolom bertipe data kategorikal (string)\n",
        "*   `include = all` untuk menghitung keseluruhan kolom (baik data kategorikal maupun integer)\n",
        "\n"
      ],
      "metadata": {
        "id": "XB7V3z8zBYdV"
      }
    },
    {
      "cell_type": "code",
      "source": [
        "movies.describe()"
      ],
      "metadata": {
        "colab": {
          "base_uri": "https://localhost:8080/",
          "height": 300
        },
        "id": "exkd4WeRBSiV",
        "outputId": "95568521-9791-4fad-8eda-35462ce53be0"
      },
      "execution_count": 11,
      "outputs": [
        {
          "output_type": "execute_result",
          "data": {
            "text/plain": [
              "              year  users_rating\n",
              "count  1272.000000   1272.000000\n",
              "mean   2007.023585      6.144418\n",
              "std      12.968560      1.389315\n",
              "min    1926.000000      1.200000\n",
              "25%    2006.000000      5.300000\n",
              "50%    2011.000000      6.400000\n",
              "75%    2016.000000      7.100000\n",
              "max    2020.000000      9.400000"
            ],
            "text/html": [
              "\n",
              "  <div id=\"df-59b95c44-392b-46d7-8dcf-962e04263aab\">\n",
              "    <div class=\"colab-df-container\">\n",
              "      <div>\n",
              "<style scoped>\n",
              "    .dataframe tbody tr th:only-of-type {\n",
              "        vertical-align: middle;\n",
              "    }\n",
              "\n",
              "    .dataframe tbody tr th {\n",
              "        vertical-align: top;\n",
              "    }\n",
              "\n",
              "    .dataframe thead th {\n",
              "        text-align: right;\n",
              "    }\n",
              "</style>\n",
              "<table border=\"1\" class=\"dataframe\">\n",
              "  <thead>\n",
              "    <tr style=\"text-align: right;\">\n",
              "      <th></th>\n",
              "      <th>year</th>\n",
              "      <th>users_rating</th>\n",
              "    </tr>\n",
              "  </thead>\n",
              "  <tbody>\n",
              "    <tr>\n",
              "      <th>count</th>\n",
              "      <td>1272.000000</td>\n",
              "      <td>1272.000000</td>\n",
              "    </tr>\n",
              "    <tr>\n",
              "      <th>mean</th>\n",
              "      <td>2007.023585</td>\n",
              "      <td>6.144418</td>\n",
              "    </tr>\n",
              "    <tr>\n",
              "      <th>std</th>\n",
              "      <td>12.968560</td>\n",
              "      <td>1.389315</td>\n",
              "    </tr>\n",
              "    <tr>\n",
              "      <th>min</th>\n",
              "      <td>1926.000000</td>\n",
              "      <td>1.200000</td>\n",
              "    </tr>\n",
              "    <tr>\n",
              "      <th>25%</th>\n",
              "      <td>2006.000000</td>\n",
              "      <td>5.300000</td>\n",
              "    </tr>\n",
              "    <tr>\n",
              "      <th>50%</th>\n",
              "      <td>2011.000000</td>\n",
              "      <td>6.400000</td>\n",
              "    </tr>\n",
              "    <tr>\n",
              "      <th>75%</th>\n",
              "      <td>2016.000000</td>\n",
              "      <td>7.100000</td>\n",
              "    </tr>\n",
              "    <tr>\n",
              "      <th>max</th>\n",
              "      <td>2020.000000</td>\n",
              "      <td>9.400000</td>\n",
              "    </tr>\n",
              "  </tbody>\n",
              "</table>\n",
              "</div>\n",
              "      <button class=\"colab-df-convert\" onclick=\"convertToInteractive('df-59b95c44-392b-46d7-8dcf-962e04263aab')\"\n",
              "              title=\"Convert this dataframe to an interactive table.\"\n",
              "              style=\"display:none;\">\n",
              "        \n",
              "  <svg xmlns=\"http://www.w3.org/2000/svg\" height=\"24px\"viewBox=\"0 0 24 24\"\n",
              "       width=\"24px\">\n",
              "    <path d=\"M0 0h24v24H0V0z\" fill=\"none\"/>\n",
              "    <path d=\"M18.56 5.44l.94 2.06.94-2.06 2.06-.94-2.06-.94-.94-2.06-.94 2.06-2.06.94zm-11 1L8.5 8.5l.94-2.06 2.06-.94-2.06-.94L8.5 2.5l-.94 2.06-2.06.94zm10 10l.94 2.06.94-2.06 2.06-.94-2.06-.94-.94-2.06-.94 2.06-2.06.94z\"/><path d=\"M17.41 7.96l-1.37-1.37c-.4-.4-.92-.59-1.43-.59-.52 0-1.04.2-1.43.59L10.3 9.45l-7.72 7.72c-.78.78-.78 2.05 0 2.83L4 21.41c.39.39.9.59 1.41.59.51 0 1.02-.2 1.41-.59l7.78-7.78 2.81-2.81c.8-.78.8-2.07 0-2.86zM5.41 20L4 18.59l7.72-7.72 1.47 1.35L5.41 20z\"/>\n",
              "  </svg>\n",
              "      </button>\n",
              "      \n",
              "  <style>\n",
              "    .colab-df-container {\n",
              "      display:flex;\n",
              "      flex-wrap:wrap;\n",
              "      gap: 12px;\n",
              "    }\n",
              "\n",
              "    .colab-df-convert {\n",
              "      background-color: #E8F0FE;\n",
              "      border: none;\n",
              "      border-radius: 50%;\n",
              "      cursor: pointer;\n",
              "      display: none;\n",
              "      fill: #1967D2;\n",
              "      height: 32px;\n",
              "      padding: 0 0 0 0;\n",
              "      width: 32px;\n",
              "    }\n",
              "\n",
              "    .colab-df-convert:hover {\n",
              "      background-color: #E2EBFA;\n",
              "      box-shadow: 0px 1px 2px rgba(60, 64, 67, 0.3), 0px 1px 3px 1px rgba(60, 64, 67, 0.15);\n",
              "      fill: #174EA6;\n",
              "    }\n",
              "\n",
              "    [theme=dark] .colab-df-convert {\n",
              "      background-color: #3B4455;\n",
              "      fill: #D2E3FC;\n",
              "    }\n",
              "\n",
              "    [theme=dark] .colab-df-convert:hover {\n",
              "      background-color: #434B5C;\n",
              "      box-shadow: 0px 1px 3px 1px rgba(0, 0, 0, 0.15);\n",
              "      filter: drop-shadow(0px 1px 2px rgba(0, 0, 0, 0.3));\n",
              "      fill: #FFFFFF;\n",
              "    }\n",
              "  </style>\n",
              "\n",
              "      <script>\n",
              "        const buttonEl =\n",
              "          document.querySelector('#df-59b95c44-392b-46d7-8dcf-962e04263aab button.colab-df-convert');\n",
              "        buttonEl.style.display =\n",
              "          google.colab.kernel.accessAllowed ? 'block' : 'none';\n",
              "\n",
              "        async function convertToInteractive(key) {\n",
              "          const element = document.querySelector('#df-59b95c44-392b-46d7-8dcf-962e04263aab');\n",
              "          const dataTable =\n",
              "            await google.colab.kernel.invokeFunction('convertToInteractive',\n",
              "                                                     [key], {});\n",
              "          if (!dataTable) return;\n",
              "\n",
              "          const docLinkHtml = 'Like what you see? Visit the ' +\n",
              "            '<a target=\"_blank\" href=https://colab.research.google.com/notebooks/data_table.ipynb>data table notebook</a>'\n",
              "            + ' to learn more about interactive tables.';\n",
              "          element.innerHTML = '';\n",
              "          dataTable['output_type'] = 'display_data';\n",
              "          await google.colab.output.renderOutput(dataTable, element);\n",
              "          const docLink = document.createElement('div');\n",
              "          docLink.innerHTML = docLinkHtml;\n",
              "          element.appendChild(docLink);\n",
              "        }\n",
              "      </script>\n",
              "    </div>\n",
              "  </div>\n",
              "  "
            ]
          },
          "metadata": {},
          "execution_count": 11
        }
      ]
    },
    {
      "cell_type": "code",
      "source": [
        "movies.describe(include='object')"
      ],
      "metadata": {
        "colab": {
          "base_uri": "https://localhost:8080/",
          "height": 175
        },
        "id": "s-oQUiYpCJpZ",
        "outputId": "1ad561f5-dc80-4960-a1bd-a8e5a30e3c33"
      },
      "execution_count": 12,
      "outputs": [
        {
          "output_type": "execute_result",
          "data": {
            "text/plain": [
              "         title                                        description  genre  \\\n",
              "count     1272                                                840   1236   \n",
              "unique    1262                                                840     15   \n",
              "top     Jomblo  Ayudia (Mawar De Jongh) is not satisfied enoug...  Drama   \n",
              "freq         2                                                  1    456   \n",
              "\n",
              "       rating votes   languages         directors  \\\n",
              "count     376  1272        1272              1265   \n",
              "unique     11   312           8               377   \n",
              "top       13+     6  Indonesian  Nayato Fio Nuala   \n",
              "freq      161    58        1241                61   \n",
              "\n",
              "                                                   actors runtime  \n",
              "count                                                1272     869  \n",
              "unique                                               1266      85  \n",
              "top     [nan, nan, nan, nan, nan, nan, nan, nan, nan, ...  90 min  \n",
              "freq                                                    4     109  "
            ],
            "text/html": [
              "\n",
              "  <div id=\"df-c63014d8-4011-4d21-93bb-74c7234f19d8\">\n",
              "    <div class=\"colab-df-container\">\n",
              "      <div>\n",
              "<style scoped>\n",
              "    .dataframe tbody tr th:only-of-type {\n",
              "        vertical-align: middle;\n",
              "    }\n",
              "\n",
              "    .dataframe tbody tr th {\n",
              "        vertical-align: top;\n",
              "    }\n",
              "\n",
              "    .dataframe thead th {\n",
              "        text-align: right;\n",
              "    }\n",
              "</style>\n",
              "<table border=\"1\" class=\"dataframe\">\n",
              "  <thead>\n",
              "    <tr style=\"text-align: right;\">\n",
              "      <th></th>\n",
              "      <th>title</th>\n",
              "      <th>description</th>\n",
              "      <th>genre</th>\n",
              "      <th>rating</th>\n",
              "      <th>votes</th>\n",
              "      <th>languages</th>\n",
              "      <th>directors</th>\n",
              "      <th>actors</th>\n",
              "      <th>runtime</th>\n",
              "    </tr>\n",
              "  </thead>\n",
              "  <tbody>\n",
              "    <tr>\n",
              "      <th>count</th>\n",
              "      <td>1272</td>\n",
              "      <td>840</td>\n",
              "      <td>1236</td>\n",
              "      <td>376</td>\n",
              "      <td>1272</td>\n",
              "      <td>1272</td>\n",
              "      <td>1265</td>\n",
              "      <td>1272</td>\n",
              "      <td>869</td>\n",
              "    </tr>\n",
              "    <tr>\n",
              "      <th>unique</th>\n",
              "      <td>1262</td>\n",
              "      <td>840</td>\n",
              "      <td>15</td>\n",
              "      <td>11</td>\n",
              "      <td>312</td>\n",
              "      <td>8</td>\n",
              "      <td>377</td>\n",
              "      <td>1266</td>\n",
              "      <td>85</td>\n",
              "    </tr>\n",
              "    <tr>\n",
              "      <th>top</th>\n",
              "      <td>Jomblo</td>\n",
              "      <td>Ayudia (Mawar De Jongh) is not satisfied enoug...</td>\n",
              "      <td>Drama</td>\n",
              "      <td>13+</td>\n",
              "      <td>6</td>\n",
              "      <td>Indonesian</td>\n",
              "      <td>Nayato Fio Nuala</td>\n",
              "      <td>[nan, nan, nan, nan, nan, nan, nan, nan, nan, ...</td>\n",
              "      <td>90 min</td>\n",
              "    </tr>\n",
              "    <tr>\n",
              "      <th>freq</th>\n",
              "      <td>2</td>\n",
              "      <td>1</td>\n",
              "      <td>456</td>\n",
              "      <td>161</td>\n",
              "      <td>58</td>\n",
              "      <td>1241</td>\n",
              "      <td>61</td>\n",
              "      <td>4</td>\n",
              "      <td>109</td>\n",
              "    </tr>\n",
              "  </tbody>\n",
              "</table>\n",
              "</div>\n",
              "      <button class=\"colab-df-convert\" onclick=\"convertToInteractive('df-c63014d8-4011-4d21-93bb-74c7234f19d8')\"\n",
              "              title=\"Convert this dataframe to an interactive table.\"\n",
              "              style=\"display:none;\">\n",
              "        \n",
              "  <svg xmlns=\"http://www.w3.org/2000/svg\" height=\"24px\"viewBox=\"0 0 24 24\"\n",
              "       width=\"24px\">\n",
              "    <path d=\"M0 0h24v24H0V0z\" fill=\"none\"/>\n",
              "    <path d=\"M18.56 5.44l.94 2.06.94-2.06 2.06-.94-2.06-.94-.94-2.06-.94 2.06-2.06.94zm-11 1L8.5 8.5l.94-2.06 2.06-.94-2.06-.94L8.5 2.5l-.94 2.06-2.06.94zm10 10l.94 2.06.94-2.06 2.06-.94-2.06-.94-.94-2.06-.94 2.06-2.06.94z\"/><path d=\"M17.41 7.96l-1.37-1.37c-.4-.4-.92-.59-1.43-.59-.52 0-1.04.2-1.43.59L10.3 9.45l-7.72 7.72c-.78.78-.78 2.05 0 2.83L4 21.41c.39.39.9.59 1.41.59.51 0 1.02-.2 1.41-.59l7.78-7.78 2.81-2.81c.8-.78.8-2.07 0-2.86zM5.41 20L4 18.59l7.72-7.72 1.47 1.35L5.41 20z\"/>\n",
              "  </svg>\n",
              "      </button>\n",
              "      \n",
              "  <style>\n",
              "    .colab-df-container {\n",
              "      display:flex;\n",
              "      flex-wrap:wrap;\n",
              "      gap: 12px;\n",
              "    }\n",
              "\n",
              "    .colab-df-convert {\n",
              "      background-color: #E8F0FE;\n",
              "      border: none;\n",
              "      border-radius: 50%;\n",
              "      cursor: pointer;\n",
              "      display: none;\n",
              "      fill: #1967D2;\n",
              "      height: 32px;\n",
              "      padding: 0 0 0 0;\n",
              "      width: 32px;\n",
              "    }\n",
              "\n",
              "    .colab-df-convert:hover {\n",
              "      background-color: #E2EBFA;\n",
              "      box-shadow: 0px 1px 2px rgba(60, 64, 67, 0.3), 0px 1px 3px 1px rgba(60, 64, 67, 0.15);\n",
              "      fill: #174EA6;\n",
              "    }\n",
              "\n",
              "    [theme=dark] .colab-df-convert {\n",
              "      background-color: #3B4455;\n",
              "      fill: #D2E3FC;\n",
              "    }\n",
              "\n",
              "    [theme=dark] .colab-df-convert:hover {\n",
              "      background-color: #434B5C;\n",
              "      box-shadow: 0px 1px 3px 1px rgba(0, 0, 0, 0.15);\n",
              "      filter: drop-shadow(0px 1px 2px rgba(0, 0, 0, 0.3));\n",
              "      fill: #FFFFFF;\n",
              "    }\n",
              "  </style>\n",
              "\n",
              "      <script>\n",
              "        const buttonEl =\n",
              "          document.querySelector('#df-c63014d8-4011-4d21-93bb-74c7234f19d8 button.colab-df-convert');\n",
              "        buttonEl.style.display =\n",
              "          google.colab.kernel.accessAllowed ? 'block' : 'none';\n",
              "\n",
              "        async function convertToInteractive(key) {\n",
              "          const element = document.querySelector('#df-c63014d8-4011-4d21-93bb-74c7234f19d8');\n",
              "          const dataTable =\n",
              "            await google.colab.kernel.invokeFunction('convertToInteractive',\n",
              "                                                     [key], {});\n",
              "          if (!dataTable) return;\n",
              "\n",
              "          const docLinkHtml = 'Like what you see? Visit the ' +\n",
              "            '<a target=\"_blank\" href=https://colab.research.google.com/notebooks/data_table.ipynb>data table notebook</a>'\n",
              "            + ' to learn more about interactive tables.';\n",
              "          element.innerHTML = '';\n",
              "          dataTable['output_type'] = 'display_data';\n",
              "          await google.colab.output.renderOutput(dataTable, element);\n",
              "          const docLink = document.createElement('div');\n",
              "          docLink.innerHTML = docLinkHtml;\n",
              "          element.appendChild(docLink);\n",
              "        }\n",
              "      </script>\n",
              "    </div>\n",
              "  </div>\n",
              "  "
            ]
          },
          "metadata": {},
          "execution_count": 12
        }
      ]
    },
    {
      "cell_type": "code",
      "source": [
        "movies.describe(include='all')"
      ],
      "metadata": {
        "colab": {
          "base_uri": "https://localhost:8080/",
          "height": 394
        },
        "id": "kPaT3kgQCQTH",
        "outputId": "403882a4-19d2-4c30-a966-583a9fc9ee2d"
      },
      "execution_count": 13,
      "outputs": [
        {
          "output_type": "execute_result",
          "data": {
            "text/plain": [
              "         title         year  \\\n",
              "count     1272  1272.000000   \n",
              "unique    1262          NaN   \n",
              "top     Jomblo          NaN   \n",
              "freq         2          NaN   \n",
              "mean       NaN  2007.023585   \n",
              "std        NaN    12.968560   \n",
              "min        NaN  1926.000000   \n",
              "25%        NaN  2006.000000   \n",
              "50%        NaN  2011.000000   \n",
              "75%        NaN  2016.000000   \n",
              "max        NaN  2020.000000   \n",
              "\n",
              "                                              description  genre rating  \\\n",
              "count                                                 840   1236    376   \n",
              "unique                                                840     15     11   \n",
              "top     Ayudia (Mawar De Jongh) is not satisfied enoug...  Drama    13+   \n",
              "freq                                                    1    456    161   \n",
              "mean                                                  NaN    NaN    NaN   \n",
              "std                                                   NaN    NaN    NaN   \n",
              "min                                                   NaN    NaN    NaN   \n",
              "25%                                                   NaN    NaN    NaN   \n",
              "50%                                                   NaN    NaN    NaN   \n",
              "75%                                                   NaN    NaN    NaN   \n",
              "max                                                   NaN    NaN    NaN   \n",
              "\n",
              "        users_rating votes   languages         directors  \\\n",
              "count    1272.000000  1272        1272              1265   \n",
              "unique           NaN   312           8               377   \n",
              "top              NaN     6  Indonesian  Nayato Fio Nuala   \n",
              "freq             NaN    58        1241                61   \n",
              "mean        6.144418   NaN         NaN               NaN   \n",
              "std         1.389315   NaN         NaN               NaN   \n",
              "min         1.200000   NaN         NaN               NaN   \n",
              "25%         5.300000   NaN         NaN               NaN   \n",
              "50%         6.400000   NaN         NaN               NaN   \n",
              "75%         7.100000   NaN         NaN               NaN   \n",
              "max         9.400000   NaN         NaN               NaN   \n",
              "\n",
              "                                                   actors runtime  \n",
              "count                                                1272     869  \n",
              "unique                                               1266      85  \n",
              "top     [nan, nan, nan, nan, nan, nan, nan, nan, nan, ...  90 min  \n",
              "freq                                                    4     109  \n",
              "mean                                                  NaN     NaN  \n",
              "std                                                   NaN     NaN  \n",
              "min                                                   NaN     NaN  \n",
              "25%                                                   NaN     NaN  \n",
              "50%                                                   NaN     NaN  \n",
              "75%                                                   NaN     NaN  \n",
              "max                                                   NaN     NaN  "
            ],
            "text/html": [
              "\n",
              "  <div id=\"df-9f5cc2ce-01c8-459a-8d8c-0dd4f0c84d5e\">\n",
              "    <div class=\"colab-df-container\">\n",
              "      <div>\n",
              "<style scoped>\n",
              "    .dataframe tbody tr th:only-of-type {\n",
              "        vertical-align: middle;\n",
              "    }\n",
              "\n",
              "    .dataframe tbody tr th {\n",
              "        vertical-align: top;\n",
              "    }\n",
              "\n",
              "    .dataframe thead th {\n",
              "        text-align: right;\n",
              "    }\n",
              "</style>\n",
              "<table border=\"1\" class=\"dataframe\">\n",
              "  <thead>\n",
              "    <tr style=\"text-align: right;\">\n",
              "      <th></th>\n",
              "      <th>title</th>\n",
              "      <th>year</th>\n",
              "      <th>description</th>\n",
              "      <th>genre</th>\n",
              "      <th>rating</th>\n",
              "      <th>users_rating</th>\n",
              "      <th>votes</th>\n",
              "      <th>languages</th>\n",
              "      <th>directors</th>\n",
              "      <th>actors</th>\n",
              "      <th>runtime</th>\n",
              "    </tr>\n",
              "  </thead>\n",
              "  <tbody>\n",
              "    <tr>\n",
              "      <th>count</th>\n",
              "      <td>1272</td>\n",
              "      <td>1272.000000</td>\n",
              "      <td>840</td>\n",
              "      <td>1236</td>\n",
              "      <td>376</td>\n",
              "      <td>1272.000000</td>\n",
              "      <td>1272</td>\n",
              "      <td>1272</td>\n",
              "      <td>1265</td>\n",
              "      <td>1272</td>\n",
              "      <td>869</td>\n",
              "    </tr>\n",
              "    <tr>\n",
              "      <th>unique</th>\n",
              "      <td>1262</td>\n",
              "      <td>NaN</td>\n",
              "      <td>840</td>\n",
              "      <td>15</td>\n",
              "      <td>11</td>\n",
              "      <td>NaN</td>\n",
              "      <td>312</td>\n",
              "      <td>8</td>\n",
              "      <td>377</td>\n",
              "      <td>1266</td>\n",
              "      <td>85</td>\n",
              "    </tr>\n",
              "    <tr>\n",
              "      <th>top</th>\n",
              "      <td>Jomblo</td>\n",
              "      <td>NaN</td>\n",
              "      <td>Ayudia (Mawar De Jongh) is not satisfied enoug...</td>\n",
              "      <td>Drama</td>\n",
              "      <td>13+</td>\n",
              "      <td>NaN</td>\n",
              "      <td>6</td>\n",
              "      <td>Indonesian</td>\n",
              "      <td>Nayato Fio Nuala</td>\n",
              "      <td>[nan, nan, nan, nan, nan, nan, nan, nan, nan, ...</td>\n",
              "      <td>90 min</td>\n",
              "    </tr>\n",
              "    <tr>\n",
              "      <th>freq</th>\n",
              "      <td>2</td>\n",
              "      <td>NaN</td>\n",
              "      <td>1</td>\n",
              "      <td>456</td>\n",
              "      <td>161</td>\n",
              "      <td>NaN</td>\n",
              "      <td>58</td>\n",
              "      <td>1241</td>\n",
              "      <td>61</td>\n",
              "      <td>4</td>\n",
              "      <td>109</td>\n",
              "    </tr>\n",
              "    <tr>\n",
              "      <th>mean</th>\n",
              "      <td>NaN</td>\n",
              "      <td>2007.023585</td>\n",
              "      <td>NaN</td>\n",
              "      <td>NaN</td>\n",
              "      <td>NaN</td>\n",
              "      <td>6.144418</td>\n",
              "      <td>NaN</td>\n",
              "      <td>NaN</td>\n",
              "      <td>NaN</td>\n",
              "      <td>NaN</td>\n",
              "      <td>NaN</td>\n",
              "    </tr>\n",
              "    <tr>\n",
              "      <th>std</th>\n",
              "      <td>NaN</td>\n",
              "      <td>12.968560</td>\n",
              "      <td>NaN</td>\n",
              "      <td>NaN</td>\n",
              "      <td>NaN</td>\n",
              "      <td>1.389315</td>\n",
              "      <td>NaN</td>\n",
              "      <td>NaN</td>\n",
              "      <td>NaN</td>\n",
              "      <td>NaN</td>\n",
              "      <td>NaN</td>\n",
              "    </tr>\n",
              "    <tr>\n",
              "      <th>min</th>\n",
              "      <td>NaN</td>\n",
              "      <td>1926.000000</td>\n",
              "      <td>NaN</td>\n",
              "      <td>NaN</td>\n",
              "      <td>NaN</td>\n",
              "      <td>1.200000</td>\n",
              "      <td>NaN</td>\n",
              "      <td>NaN</td>\n",
              "      <td>NaN</td>\n",
              "      <td>NaN</td>\n",
              "      <td>NaN</td>\n",
              "    </tr>\n",
              "    <tr>\n",
              "      <th>25%</th>\n",
              "      <td>NaN</td>\n",
              "      <td>2006.000000</td>\n",
              "      <td>NaN</td>\n",
              "      <td>NaN</td>\n",
              "      <td>NaN</td>\n",
              "      <td>5.300000</td>\n",
              "      <td>NaN</td>\n",
              "      <td>NaN</td>\n",
              "      <td>NaN</td>\n",
              "      <td>NaN</td>\n",
              "      <td>NaN</td>\n",
              "    </tr>\n",
              "    <tr>\n",
              "      <th>50%</th>\n",
              "      <td>NaN</td>\n",
              "      <td>2011.000000</td>\n",
              "      <td>NaN</td>\n",
              "      <td>NaN</td>\n",
              "      <td>NaN</td>\n",
              "      <td>6.400000</td>\n",
              "      <td>NaN</td>\n",
              "      <td>NaN</td>\n",
              "      <td>NaN</td>\n",
              "      <td>NaN</td>\n",
              "      <td>NaN</td>\n",
              "    </tr>\n",
              "    <tr>\n",
              "      <th>75%</th>\n",
              "      <td>NaN</td>\n",
              "      <td>2016.000000</td>\n",
              "      <td>NaN</td>\n",
              "      <td>NaN</td>\n",
              "      <td>NaN</td>\n",
              "      <td>7.100000</td>\n",
              "      <td>NaN</td>\n",
              "      <td>NaN</td>\n",
              "      <td>NaN</td>\n",
              "      <td>NaN</td>\n",
              "      <td>NaN</td>\n",
              "    </tr>\n",
              "    <tr>\n",
              "      <th>max</th>\n",
              "      <td>NaN</td>\n",
              "      <td>2020.000000</td>\n",
              "      <td>NaN</td>\n",
              "      <td>NaN</td>\n",
              "      <td>NaN</td>\n",
              "      <td>9.400000</td>\n",
              "      <td>NaN</td>\n",
              "      <td>NaN</td>\n",
              "      <td>NaN</td>\n",
              "      <td>NaN</td>\n",
              "      <td>NaN</td>\n",
              "    </tr>\n",
              "  </tbody>\n",
              "</table>\n",
              "</div>\n",
              "      <button class=\"colab-df-convert\" onclick=\"convertToInteractive('df-9f5cc2ce-01c8-459a-8d8c-0dd4f0c84d5e')\"\n",
              "              title=\"Convert this dataframe to an interactive table.\"\n",
              "              style=\"display:none;\">\n",
              "        \n",
              "  <svg xmlns=\"http://www.w3.org/2000/svg\" height=\"24px\"viewBox=\"0 0 24 24\"\n",
              "       width=\"24px\">\n",
              "    <path d=\"M0 0h24v24H0V0z\" fill=\"none\"/>\n",
              "    <path d=\"M18.56 5.44l.94 2.06.94-2.06 2.06-.94-2.06-.94-.94-2.06-.94 2.06-2.06.94zm-11 1L8.5 8.5l.94-2.06 2.06-.94-2.06-.94L8.5 2.5l-.94 2.06-2.06.94zm10 10l.94 2.06.94-2.06 2.06-.94-2.06-.94-.94-2.06-.94 2.06-2.06.94z\"/><path d=\"M17.41 7.96l-1.37-1.37c-.4-.4-.92-.59-1.43-.59-.52 0-1.04.2-1.43.59L10.3 9.45l-7.72 7.72c-.78.78-.78 2.05 0 2.83L4 21.41c.39.39.9.59 1.41.59.51 0 1.02-.2 1.41-.59l7.78-7.78 2.81-2.81c.8-.78.8-2.07 0-2.86zM5.41 20L4 18.59l7.72-7.72 1.47 1.35L5.41 20z\"/>\n",
              "  </svg>\n",
              "      </button>\n",
              "      \n",
              "  <style>\n",
              "    .colab-df-container {\n",
              "      display:flex;\n",
              "      flex-wrap:wrap;\n",
              "      gap: 12px;\n",
              "    }\n",
              "\n",
              "    .colab-df-convert {\n",
              "      background-color: #E8F0FE;\n",
              "      border: none;\n",
              "      border-radius: 50%;\n",
              "      cursor: pointer;\n",
              "      display: none;\n",
              "      fill: #1967D2;\n",
              "      height: 32px;\n",
              "      padding: 0 0 0 0;\n",
              "      width: 32px;\n",
              "    }\n",
              "\n",
              "    .colab-df-convert:hover {\n",
              "      background-color: #E2EBFA;\n",
              "      box-shadow: 0px 1px 2px rgba(60, 64, 67, 0.3), 0px 1px 3px 1px rgba(60, 64, 67, 0.15);\n",
              "      fill: #174EA6;\n",
              "    }\n",
              "\n",
              "    [theme=dark] .colab-df-convert {\n",
              "      background-color: #3B4455;\n",
              "      fill: #D2E3FC;\n",
              "    }\n",
              "\n",
              "    [theme=dark] .colab-df-convert:hover {\n",
              "      background-color: #434B5C;\n",
              "      box-shadow: 0px 1px 3px 1px rgba(0, 0, 0, 0.15);\n",
              "      filter: drop-shadow(0px 1px 2px rgba(0, 0, 0, 0.3));\n",
              "      fill: #FFFFFF;\n",
              "    }\n",
              "  </style>\n",
              "\n",
              "      <script>\n",
              "        const buttonEl =\n",
              "          document.querySelector('#df-9f5cc2ce-01c8-459a-8d8c-0dd4f0c84d5e button.colab-df-convert');\n",
              "        buttonEl.style.display =\n",
              "          google.colab.kernel.accessAllowed ? 'block' : 'none';\n",
              "\n",
              "        async function convertToInteractive(key) {\n",
              "          const element = document.querySelector('#df-9f5cc2ce-01c8-459a-8d8c-0dd4f0c84d5e');\n",
              "          const dataTable =\n",
              "            await google.colab.kernel.invokeFunction('convertToInteractive',\n",
              "                                                     [key], {});\n",
              "          if (!dataTable) return;\n",
              "\n",
              "          const docLinkHtml = 'Like what you see? Visit the ' +\n",
              "            '<a target=\"_blank\" href=https://colab.research.google.com/notebooks/data_table.ipynb>data table notebook</a>'\n",
              "            + ' to learn more about interactive tables.';\n",
              "          element.innerHTML = '';\n",
              "          dataTable['output_type'] = 'display_data';\n",
              "          await google.colab.output.renderOutput(dataTable, element);\n",
              "          const docLink = document.createElement('div');\n",
              "          docLink.innerHTML = docLinkHtml;\n",
              "          element.appendChild(docLink);\n",
              "        }\n",
              "      </script>\n",
              "    </div>\n",
              "  </div>\n",
              "  "
            ]
          },
          "metadata": {},
          "execution_count": 13
        }
      ]
    },
    {
      "cell_type": "markdown",
      "source": [
        "Untuk mencari rataan, median atau modus secara terpisah dari fungsi `.describe()`, dapat menggunakan fungsi:\n",
        "\n",
        "*   Rataan (mean): `.mean()`\n",
        "*   median: `.median()`\n",
        "*   modus: `.mode()`\n",
        "\n",
        "\n",
        "\n"
      ],
      "metadata": {
        "id": "98BQlf-OC1Md"
      }
    },
    {
      "cell_type": "code",
      "source": [
        "movies['year'].mean()"
      ],
      "metadata": {
        "colab": {
          "base_uri": "https://localhost:8080/"
        },
        "id": "cWt-XKZvDrxV",
        "outputId": "cb8b625a-1354-4ce5-bff0-1d09a66a14b3"
      },
      "execution_count": 15,
      "outputs": [
        {
          "output_type": "execute_result",
          "data": {
            "text/plain": [
              "2007.0235849056603"
            ]
          },
          "metadata": {},
          "execution_count": 15
        }
      ]
    },
    {
      "cell_type": "code",
      "source": [
        "movies['users_rating'].median()"
      ],
      "metadata": {
        "colab": {
          "base_uri": "https://localhost:8080/"
        },
        "id": "ncR1IZDZEID6",
        "outputId": "79c32963-8df2-493e-e201-8ae5f91bfd8e"
      },
      "execution_count": 16,
      "outputs": [
        {
          "output_type": "execute_result",
          "data": {
            "text/plain": [
              "6.4"
            ]
          },
          "metadata": {},
          "execution_count": 16
        }
      ]
    },
    {
      "cell_type": "code",
      "source": [
        "movies['year'].mode()"
      ],
      "metadata": {
        "colab": {
          "base_uri": "https://localhost:8080/"
        },
        "id": "MaBUfyU6EYzN",
        "outputId": "e7301138-3847-46f0-d73e-b49eb5992721"
      },
      "execution_count": 17,
      "outputs": [
        {
          "output_type": "execute_result",
          "data": {
            "text/plain": [
              "0    2019\n",
              "dtype: int64"
            ]
          },
          "metadata": {},
          "execution_count": 17
        }
      ]
    },
    {
      "cell_type": "markdown",
      "metadata": {
        "id": "kV2tOfklJQII"
      },
      "source": [
        "### Cleaning Data"
      ]
    },
    {
      "cell_type": "code",
      "metadata": {
        "colab": {
          "base_uri": "https://localhost:8080/",
          "height": 424
        },
        "id": "5Tzr6mBhWipN",
        "outputId": "0a644a25-f14b-4b1c-f9b6-540da8b2bca5"
      },
      "source": [
        "# Mengecek missing values\n",
        "movies.isna()"
      ],
      "execution_count": 18,
      "outputs": [
        {
          "output_type": "execute_result",
          "data": {
            "text/plain": [
              "      title   year  description  genre  rating  users_rating  votes  \\\n",
              "0     False  False        False  False   False         False  False   \n",
              "1     False  False        False  False   False         False  False   \n",
              "2     False  False        False  False   False         False  False   \n",
              "3     False  False        False  False   False         False  False   \n",
              "4     False  False        False  False   False         False  False   \n",
              "...     ...    ...          ...    ...     ...           ...    ...   \n",
              "1267  False  False        False  False    True         False  False   \n",
              "1268  False  False        False  False    True         False  False   \n",
              "1269  False  False        False  False    True         False  False   \n",
              "1270  False  False         True  False    True         False  False   \n",
              "1271  False  False         True  False    True         False  False   \n",
              "\n",
              "      languages  directors  actors  runtime  \n",
              "0         False      False   False    False  \n",
              "1         False      False   False    False  \n",
              "2         False      False   False    False  \n",
              "3         False      False   False    False  \n",
              "4         False      False   False    False  \n",
              "...         ...        ...     ...      ...  \n",
              "1267      False      False   False    False  \n",
              "1268      False      False   False    False  \n",
              "1269      False      False   False    False  \n",
              "1270      False       True   False     True  \n",
              "1271      False      False   False    False  \n",
              "\n",
              "[1272 rows x 11 columns]"
            ],
            "text/html": [
              "\n",
              "  <div id=\"df-710a9289-a36c-4e0f-8db3-e9fc69feebd5\">\n",
              "    <div class=\"colab-df-container\">\n",
              "      <div>\n",
              "<style scoped>\n",
              "    .dataframe tbody tr th:only-of-type {\n",
              "        vertical-align: middle;\n",
              "    }\n",
              "\n",
              "    .dataframe tbody tr th {\n",
              "        vertical-align: top;\n",
              "    }\n",
              "\n",
              "    .dataframe thead th {\n",
              "        text-align: right;\n",
              "    }\n",
              "</style>\n",
              "<table border=\"1\" class=\"dataframe\">\n",
              "  <thead>\n",
              "    <tr style=\"text-align: right;\">\n",
              "      <th></th>\n",
              "      <th>title</th>\n",
              "      <th>year</th>\n",
              "      <th>description</th>\n",
              "      <th>genre</th>\n",
              "      <th>rating</th>\n",
              "      <th>users_rating</th>\n",
              "      <th>votes</th>\n",
              "      <th>languages</th>\n",
              "      <th>directors</th>\n",
              "      <th>actors</th>\n",
              "      <th>runtime</th>\n",
              "    </tr>\n",
              "  </thead>\n",
              "  <tbody>\n",
              "    <tr>\n",
              "      <th>0</th>\n",
              "      <td>False</td>\n",
              "      <td>False</td>\n",
              "      <td>False</td>\n",
              "      <td>False</td>\n",
              "      <td>False</td>\n",
              "      <td>False</td>\n",
              "      <td>False</td>\n",
              "      <td>False</td>\n",
              "      <td>False</td>\n",
              "      <td>False</td>\n",
              "      <td>False</td>\n",
              "    </tr>\n",
              "    <tr>\n",
              "      <th>1</th>\n",
              "      <td>False</td>\n",
              "      <td>False</td>\n",
              "      <td>False</td>\n",
              "      <td>False</td>\n",
              "      <td>False</td>\n",
              "      <td>False</td>\n",
              "      <td>False</td>\n",
              "      <td>False</td>\n",
              "      <td>False</td>\n",
              "      <td>False</td>\n",
              "      <td>False</td>\n",
              "    </tr>\n",
              "    <tr>\n",
              "      <th>2</th>\n",
              "      <td>False</td>\n",
              "      <td>False</td>\n",
              "      <td>False</td>\n",
              "      <td>False</td>\n",
              "      <td>False</td>\n",
              "      <td>False</td>\n",
              "      <td>False</td>\n",
              "      <td>False</td>\n",
              "      <td>False</td>\n",
              "      <td>False</td>\n",
              "      <td>False</td>\n",
              "    </tr>\n",
              "    <tr>\n",
              "      <th>3</th>\n",
              "      <td>False</td>\n",
              "      <td>False</td>\n",
              "      <td>False</td>\n",
              "      <td>False</td>\n",
              "      <td>False</td>\n",
              "      <td>False</td>\n",
              "      <td>False</td>\n",
              "      <td>False</td>\n",
              "      <td>False</td>\n",
              "      <td>False</td>\n",
              "      <td>False</td>\n",
              "    </tr>\n",
              "    <tr>\n",
              "      <th>4</th>\n",
              "      <td>False</td>\n",
              "      <td>False</td>\n",
              "      <td>False</td>\n",
              "      <td>False</td>\n",
              "      <td>False</td>\n",
              "      <td>False</td>\n",
              "      <td>False</td>\n",
              "      <td>False</td>\n",
              "      <td>False</td>\n",
              "      <td>False</td>\n",
              "      <td>False</td>\n",
              "    </tr>\n",
              "    <tr>\n",
              "      <th>...</th>\n",
              "      <td>...</td>\n",
              "      <td>...</td>\n",
              "      <td>...</td>\n",
              "      <td>...</td>\n",
              "      <td>...</td>\n",
              "      <td>...</td>\n",
              "      <td>...</td>\n",
              "      <td>...</td>\n",
              "      <td>...</td>\n",
              "      <td>...</td>\n",
              "      <td>...</td>\n",
              "    </tr>\n",
              "    <tr>\n",
              "      <th>1267</th>\n",
              "      <td>False</td>\n",
              "      <td>False</td>\n",
              "      <td>False</td>\n",
              "      <td>False</td>\n",
              "      <td>True</td>\n",
              "      <td>False</td>\n",
              "      <td>False</td>\n",
              "      <td>False</td>\n",
              "      <td>False</td>\n",
              "      <td>False</td>\n",
              "      <td>False</td>\n",
              "    </tr>\n",
              "    <tr>\n",
              "      <th>1268</th>\n",
              "      <td>False</td>\n",
              "      <td>False</td>\n",
              "      <td>False</td>\n",
              "      <td>False</td>\n",
              "      <td>True</td>\n",
              "      <td>False</td>\n",
              "      <td>False</td>\n",
              "      <td>False</td>\n",
              "      <td>False</td>\n",
              "      <td>False</td>\n",
              "      <td>False</td>\n",
              "    </tr>\n",
              "    <tr>\n",
              "      <th>1269</th>\n",
              "      <td>False</td>\n",
              "      <td>False</td>\n",
              "      <td>False</td>\n",
              "      <td>False</td>\n",
              "      <td>True</td>\n",
              "      <td>False</td>\n",
              "      <td>False</td>\n",
              "      <td>False</td>\n",
              "      <td>False</td>\n",
              "      <td>False</td>\n",
              "      <td>False</td>\n",
              "    </tr>\n",
              "    <tr>\n",
              "      <th>1270</th>\n",
              "      <td>False</td>\n",
              "      <td>False</td>\n",
              "      <td>True</td>\n",
              "      <td>False</td>\n",
              "      <td>True</td>\n",
              "      <td>False</td>\n",
              "      <td>False</td>\n",
              "      <td>False</td>\n",
              "      <td>True</td>\n",
              "      <td>False</td>\n",
              "      <td>True</td>\n",
              "    </tr>\n",
              "    <tr>\n",
              "      <th>1271</th>\n",
              "      <td>False</td>\n",
              "      <td>False</td>\n",
              "      <td>True</td>\n",
              "      <td>False</td>\n",
              "      <td>True</td>\n",
              "      <td>False</td>\n",
              "      <td>False</td>\n",
              "      <td>False</td>\n",
              "      <td>False</td>\n",
              "      <td>False</td>\n",
              "      <td>False</td>\n",
              "    </tr>\n",
              "  </tbody>\n",
              "</table>\n",
              "<p>1272 rows × 11 columns</p>\n",
              "</div>\n",
              "      <button class=\"colab-df-convert\" onclick=\"convertToInteractive('df-710a9289-a36c-4e0f-8db3-e9fc69feebd5')\"\n",
              "              title=\"Convert this dataframe to an interactive table.\"\n",
              "              style=\"display:none;\">\n",
              "        \n",
              "  <svg xmlns=\"http://www.w3.org/2000/svg\" height=\"24px\"viewBox=\"0 0 24 24\"\n",
              "       width=\"24px\">\n",
              "    <path d=\"M0 0h24v24H0V0z\" fill=\"none\"/>\n",
              "    <path d=\"M18.56 5.44l.94 2.06.94-2.06 2.06-.94-2.06-.94-.94-2.06-.94 2.06-2.06.94zm-11 1L8.5 8.5l.94-2.06 2.06-.94-2.06-.94L8.5 2.5l-.94 2.06-2.06.94zm10 10l.94 2.06.94-2.06 2.06-.94-2.06-.94-.94-2.06-.94 2.06-2.06.94z\"/><path d=\"M17.41 7.96l-1.37-1.37c-.4-.4-.92-.59-1.43-.59-.52 0-1.04.2-1.43.59L10.3 9.45l-7.72 7.72c-.78.78-.78 2.05 0 2.83L4 21.41c.39.39.9.59 1.41.59.51 0 1.02-.2 1.41-.59l7.78-7.78 2.81-2.81c.8-.78.8-2.07 0-2.86zM5.41 20L4 18.59l7.72-7.72 1.47 1.35L5.41 20z\"/>\n",
              "  </svg>\n",
              "      </button>\n",
              "      \n",
              "  <style>\n",
              "    .colab-df-container {\n",
              "      display:flex;\n",
              "      flex-wrap:wrap;\n",
              "      gap: 12px;\n",
              "    }\n",
              "\n",
              "    .colab-df-convert {\n",
              "      background-color: #E8F0FE;\n",
              "      border: none;\n",
              "      border-radius: 50%;\n",
              "      cursor: pointer;\n",
              "      display: none;\n",
              "      fill: #1967D2;\n",
              "      height: 32px;\n",
              "      padding: 0 0 0 0;\n",
              "      width: 32px;\n",
              "    }\n",
              "\n",
              "    .colab-df-convert:hover {\n",
              "      background-color: #E2EBFA;\n",
              "      box-shadow: 0px 1px 2px rgba(60, 64, 67, 0.3), 0px 1px 3px 1px rgba(60, 64, 67, 0.15);\n",
              "      fill: #174EA6;\n",
              "    }\n",
              "\n",
              "    [theme=dark] .colab-df-convert {\n",
              "      background-color: #3B4455;\n",
              "      fill: #D2E3FC;\n",
              "    }\n",
              "\n",
              "    [theme=dark] .colab-df-convert:hover {\n",
              "      background-color: #434B5C;\n",
              "      box-shadow: 0px 1px 3px 1px rgba(0, 0, 0, 0.15);\n",
              "      filter: drop-shadow(0px 1px 2px rgba(0, 0, 0, 0.3));\n",
              "      fill: #FFFFFF;\n",
              "    }\n",
              "  </style>\n",
              "\n",
              "      <script>\n",
              "        const buttonEl =\n",
              "          document.querySelector('#df-710a9289-a36c-4e0f-8db3-e9fc69feebd5 button.colab-df-convert');\n",
              "        buttonEl.style.display =\n",
              "          google.colab.kernel.accessAllowed ? 'block' : 'none';\n",
              "\n",
              "        async function convertToInteractive(key) {\n",
              "          const element = document.querySelector('#df-710a9289-a36c-4e0f-8db3-e9fc69feebd5');\n",
              "          const dataTable =\n",
              "            await google.colab.kernel.invokeFunction('convertToInteractive',\n",
              "                                                     [key], {});\n",
              "          if (!dataTable) return;\n",
              "\n",
              "          const docLinkHtml = 'Like what you see? Visit the ' +\n",
              "            '<a target=\"_blank\" href=https://colab.research.google.com/notebooks/data_table.ipynb>data table notebook</a>'\n",
              "            + ' to learn more about interactive tables.';\n",
              "          element.innerHTML = '';\n",
              "          dataTable['output_type'] = 'display_data';\n",
              "          await google.colab.output.renderOutput(dataTable, element);\n",
              "          const docLink = document.createElement('div');\n",
              "          docLink.innerHTML = docLinkHtml;\n",
              "          element.appendChild(docLink);\n",
              "        }\n",
              "      </script>\n",
              "    </div>\n",
              "  </div>\n",
              "  "
            ]
          },
          "metadata": {},
          "execution_count": 18
        }
      ]
    },
    {
      "cell_type": "code",
      "source": [
        "# Mengecek missing values (dijumlahkan)\n",
        "movies.isna().sum()"
      ],
      "metadata": {
        "colab": {
          "base_uri": "https://localhost:8080/"
        },
        "id": "bB1HXgRgsoEP",
        "outputId": "1dd43c61-14aa-4b70-838b-2c742ac9fdc2"
      },
      "execution_count": 19,
      "outputs": [
        {
          "output_type": "execute_result",
          "data": {
            "text/plain": [
              "title             0\n",
              "year              0\n",
              "description     432\n",
              "genre            36\n",
              "rating          896\n",
              "users_rating      0\n",
              "votes             0\n",
              "languages         0\n",
              "directors         7\n",
              "actors            0\n",
              "runtime         403\n",
              "dtype: int64"
            ]
          },
          "metadata": {},
          "execution_count": 19
        }
      ]
    },
    {
      "cell_type": "markdown",
      "source": [
        "#### Penanganan 'description'"
      ],
      "metadata": {
        "id": "59XCQfF56KGu"
      }
    },
    {
      "cell_type": "code",
      "source": [
        "movies['description']"
      ],
      "metadata": {
        "colab": {
          "base_uri": "https://localhost:8080/"
        },
        "id": "vHLKNZ71u9Y_",
        "outputId": "dcb9d38c-cb47-44a7-9149-5e1d82884f1b"
      },
      "execution_count": 25,
      "outputs": [
        {
          "output_type": "execute_result",
          "data": {
            "text/plain": [
              "0       Ayudia (Mawar De Jongh) is not satisfied enoug...\n",
              "1       Sara, Airin, Rachel, and Amara were accidental...\n",
              "2       After apparent death, Siena is able to see sig...\n",
              "3       Good Morning Indonesia, a school for poor orph...\n",
              "4       Alfi (Al Ghazali) meets Alana (Caitlin Halderm...\n",
              "                              ...                        \n",
              "1267    Set in the 1930s, and narrated like a ballad f...\n",
              "1268    Depicting the celebrated recapture of the town...\n",
              "1269    It tells the story of an Indonesian revolution...\n",
              "1270                                                  NaN\n",
              "1271                                                  NaN\n",
              "Name: description, Length: 1272, dtype: object"
            ]
          },
          "metadata": {},
          "execution_count": 25
        }
      ]
    },
    {
      "cell_type": "code",
      "metadata": {
        "colab": {
          "base_uri": "https://localhost:8080/"
        },
        "id": "3uBdurL_Jb0l",
        "outputId": "e3c3c22e-7227-4ba8-d608-035817cca1a3"
      },
      "source": [
        "# kolom 'description' kita hapus (karena tidak akan digunakan)\n",
        "# param axis => menentukan baris (nol) atau kolom (1) yang akan dihapus\n",
        "# param inplace => menimpa data yang sebelumnya jika True\n",
        "movies.drop('description', axis=1, inplace=True)\n",
        "movies.columns"
      ],
      "execution_count": 26,
      "outputs": [
        {
          "output_type": "execute_result",
          "data": {
            "text/plain": [
              "Index(['title', 'year', 'genre', 'rating', 'users_rating', 'votes',\n",
              "       'languages', 'directors', 'actors', 'runtime'],\n",
              "      dtype='object')"
            ]
          },
          "metadata": {},
          "execution_count": 26
        }
      ]
    },
    {
      "cell_type": "markdown",
      "source": [
        "#### Penanganan 'genre'"
      ],
      "metadata": {
        "id": "57mdLoG57LxW"
      }
    },
    {
      "cell_type": "code",
      "metadata": {
        "colab": {
          "base_uri": "https://localhost:8080/"
        },
        "id": "FytZfnwyPskT",
        "outputId": "f104ff4b-b5a0-4d04-bf64-2974cbbaaa25"
      },
      "source": [
        "# Menangani missing value di kolom genre\n",
        "# Karena genre bertipe data kategorikal, maka penanganan missing valuenya menggunakan nilai modus\n",
        "movies['genre'].value_counts()"
      ],
      "execution_count": null,
      "outputs": [
        {
          "output_type": "execute_result",
          "data": {
            "text/plain": [
              "Drama        456\n",
              "Comedy       287\n",
              "Horror       231\n",
              "Action       132\n",
              "Adventure     49\n",
              "Biography     28\n",
              "Thriller      12\n",
              "Romance       11\n",
              "Fantasy       10\n",
              "Crime          9\n",
              "Animation      4\n",
              "Sci-Fi         2\n",
              "Family         2\n",
              "War            2\n",
              "History        1\n",
              "Name: genre, dtype: int64"
            ]
          },
          "metadata": {},
          "execution_count": 31
        }
      ]
    },
    {
      "cell_type": "code",
      "metadata": {
        "colab": {
          "base_uri": "https://localhost:8080/"
        },
        "id": "xvl7MAOWQ9U-",
        "outputId": "9364541c-f1fc-46e9-ba8c-f3eed5918ee7"
      },
      "source": [
        "# Karena genre yang paling banyak adalah 'Drama', maka isi missing valuenya dengan 'Drama'\n",
        "movies['genre'] = movies['genre'].fillna(\"Drama\")\n",
        "movies['genre']"
      ],
      "execution_count": null,
      "outputs": [
        {
          "output_type": "execute_result",
          "data": {
            "text/plain": [
              "0       Biography\n",
              "1        Thriller\n",
              "2          Horror\n",
              "3       Adventure\n",
              "4           Drama\n",
              "          ...    \n",
              "1267        Drama\n",
              "1268        Drama\n",
              "1269        Drama\n",
              "1270    Adventure\n",
              "1271      Fantasy\n",
              "Name: genre, Length: 1272, dtype: object"
            ]
          },
          "metadata": {},
          "execution_count": 32
        }
      ]
    },
    {
      "cell_type": "markdown",
      "source": [
        "#### Penanganan 'rating'"
      ],
      "metadata": {
        "id": "H-XYksAJ7SIy"
      }
    },
    {
      "cell_type": "code",
      "source": [
        "movies['rating']"
      ],
      "metadata": {
        "colab": {
          "base_uri": "https://localhost:8080/"
        },
        "id": "AP8Wpgcc7YBE",
        "outputId": "88b48863-a038-4733-ef46-3596a41d7c38"
      },
      "execution_count": null,
      "outputs": [
        {
          "output_type": "execute_result",
          "data": {
            "text/plain": [
              "0       13+\n",
              "1       17+\n",
              "2       13+\n",
              "3       13+\n",
              "4       17+\n",
              "       ... \n",
              "1267    NaN\n",
              "1268    NaN\n",
              "1269    NaN\n",
              "1270    NaN\n",
              "1271    NaN\n",
              "Name: rating, Length: 1272, dtype: object"
            ]
          },
          "metadata": {},
          "execution_count": 33
        }
      ]
    },
    {
      "cell_type": "code",
      "source": [
        "movies['rating'].value_counts()"
      ],
      "metadata": {
        "colab": {
          "base_uri": "https://localhost:8080/"
        },
        "id": "UD9jjxlX8b67",
        "outputId": "06d901ea-1763-4f63-9477-c6540b783fe4"
      },
      "execution_count": null,
      "outputs": [
        {
          "output_type": "execute_result",
          "data": {
            "text/plain": [
              "13+          161\n",
              "17+           93\n",
              "SU            39\n",
              "D             25\n",
              "R             23\n",
              "Not Rated     18\n",
              "21+            8\n",
              "TV-MA          4\n",
              "TV-14          2\n",
              "PG-13          2\n",
              "Unrated        1\n",
              "Name: rating, dtype: int64"
            ]
          },
          "metadata": {},
          "execution_count": 34
        }
      ]
    },
    {
      "cell_type": "code",
      "source": [
        "movies['title']"
      ],
      "metadata": {
        "colab": {
          "base_uri": "https://localhost:8080/"
        },
        "id": "fRGUuX1G8vDW",
        "outputId": "2a9b35af-e959-4eb2-fab5-8cd18a7d4c49"
      },
      "execution_count": null,
      "outputs": [
        {
          "output_type": "execute_result",
          "data": {
            "text/plain": [
              "0            #FriendButMarried 2\n",
              "1                       4 Mantan\n",
              "2       Aku Tahu Kapan Kamu Mati\n",
              "3                    Anak Garuda\n",
              "4                      Dignitate\n",
              "                  ...           \n",
              "1267       The Tiger from Tjampa\n",
              "1268         Enam Djam di Djogja\n",
              "1269               Darah dan Doa\n",
              "1270           Resia Boroboedoer\n",
              "1271          Loetoeng Kasaroeng\n",
              "Name: title, Length: 1272, dtype: object"
            ]
          },
          "metadata": {},
          "execution_count": 42
        }
      ]
    },
    {
      "cell_type": "markdown",
      "source": [
        "#### Penanganan 'directors'"
      ],
      "metadata": {
        "id": "sy2Hmb4B7Y9P"
      }
    },
    {
      "cell_type": "code",
      "source": [
        ""
      ],
      "metadata": {
        "id": "3umD_qdl7l6_"
      },
      "execution_count": null,
      "outputs": []
    },
    {
      "cell_type": "markdown",
      "source": [
        "#### Penanganan 'runtime'"
      ],
      "metadata": {
        "id": "1j7P__Dk7mi3"
      }
    },
    {
      "cell_type": "code",
      "source": [
        ""
      ],
      "metadata": {
        "id": "-PoelMCsZokc"
      },
      "execution_count": null,
      "outputs": []
    },
    {
      "cell_type": "code",
      "source": [
        ""
      ],
      "metadata": {
        "id": "yCnEmMZNZq22"
      },
      "execution_count": null,
      "outputs": []
    }
  ]
}